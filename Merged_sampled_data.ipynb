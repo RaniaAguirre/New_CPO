{
 "cells": [
  {
   "cell_type": "code",
   "execution_count": 1,
   "metadata": {},
   "outputs": [
    {
     "name": "stderr",
     "output_type": "stream",
     "text": [
      "C:\\Users\\52333\\anaconda3\\lib\\site-packages\\pandas\\core\\computation\\expressions.py:20: UserWarning: Pandas requires version '2.7.3' or newer of 'numexpr' (version '2.7.1' currently installed).\n",
      "  from pandas.core.computation.check import NUMEXPR_INSTALLED\n"
     ]
    }
   ],
   "source": [
    "import pandas as pd"
   ]
  },
  {
   "cell_type": "code",
   "execution_count": 2,
   "metadata": {},
   "outputs": [
    {
     "name": "stderr",
     "output_type": "stream",
     "text": [
      "<ipython-input-2-fa2cb2a14f46>:4: UserWarning: Parsing dates in %d/%m/%Y format when dayfirst=False (the default) was specified. Pass `dayfirst=True` or specify a format to silence this warning.\n",
      "  df_sortino[\"Date\"] = pd.to_datetime(df_sortino[\"Date\"])\n"
     ]
    }
   ],
   "source": [
    "df_base = pd.read_csv(\"Data_base_fin_mes.csv\")\n",
    "df_base[\"Date\"] = pd.to_datetime(df_base[\"Date\"])\n",
    "df_sortino = pd.read_csv(\"sortino.csv\")\n",
    "df_sortino[\"Date\"] = pd.to_datetime(df_sortino[\"Date\"])\n"
   ]
  },
  {
   "cell_type": "code",
   "execution_count": 3,
   "metadata": {},
   "outputs": [
    {
     "name": "stdout",
     "output_type": "stream",
     "text": [
      "   Unnamed: 0       Date  Weight_('BALL', 'BALL')  Weight_('BSX', 'BSX')  \\\n",
      "0           0 2010-02-28                 6.469623               3.853445   \n",
      "1           1 2010-02-28                11.142988               9.930582   \n",
      "2           2 2010-02-28                 8.639892               8.187785   \n",
      "3           3 2010-02-28                 7.364807               7.133230   \n",
      "4           4 2010-02-28                 1.912965               5.550169   \n",
      "\n",
      "   Weight_('CZR', 'CZR')  Weight_('AEP', 'AEP')  Weight_('ARE', 'ARE')  \\\n",
      "0              10.207903               8.074708              10.777935   \n",
      "1              11.057911               0.688659               2.488720   \n",
      "2               2.035213               8.425843               8.955307   \n",
      "3               2.025855               4.172879               3.663171   \n",
      "4              10.435029               6.140759              11.245230   \n",
      "\n",
      "   Weight_('ABT', 'ABT')  Weight_('BLDR', 'BLDR')  Weight_('GOOG', 'GOOG')  \\\n",
      "0               5.173578                 1.812882                10.534579   \n",
      "1               6.547404                 1.916667                11.010403   \n",
      "2               7.498039                 0.565661                11.058720   \n",
      "3              14.967433                 8.516217                10.362604   \n",
      "4               7.763444                 6.572111                 0.792492   \n",
      "\n",
      "   ...   MOM  Treasury Bond 3M  WTI index  Dollar index   TRCCRB       BCI  \\\n",
      "0  ...  3.74              0.11      -0.02           0.02    0.03  99.83647   \n",
      "1  ...  3.74              0.11      -0.02           0.02    0.03  99.83647   \n",
      "2  ...  3.74              0.11      -0.02           0.02    0.03  99.83647   \n",
      "3  ...  3.74              0.11      -0.02           0.02    0.03  99.83647   \n",
      "4  ...  3.74              0.11      -0.02           0.02    0.03  99.83647   \n",
      "\n",
      "        CCI       CLI  GPRI  Unemployment rate  \n",
      "0  99.38612  99.83647  1.81                9.8  \n",
      "1  99.38612  99.83647  1.81                9.8  \n",
      "2  99.38612  99.83647  1.81                9.8  \n",
      "3  99.38612  99.83647  1.81                9.8  \n",
      "4  99.38612  99.83647  1.81                9.8  \n",
      "\n",
      "[5 rows x 31 columns]\n",
      "Merge realizado y dataset guardado en 'dataset_merged.csv'.\n"
     ]
    }
   ],
   "source": [
    "# Asegúrate de que la columna \"Date\" esté en formato datetime en ambos DataFrames\n",
    "df_sortino[\"Date\"] = pd.to_datetime(df_sortino[\"Date\"])\n",
    "df_base[\"Date\"] = pd.to_datetime(df_base[\"Date\"])\n",
    "\n",
    "# Realiza el merge utilizando \"Date\" como clave\n",
    "df_merged = pd.merge(df_sortino, df_base, on=\"Date\", how=\"left\")\n",
    "\n",
    "# Verifica el resultado (opcional)\n",
    "print(df_merged.head())\n",
    "\n",
    "# Guarda el dataset merge en un archivo CSV llamado \"dataset_merged.csv\"\n",
    "df_merged.to_csv(\"dataset_merged.csv\", index=False)\n",
    "\n",
    "print(\"Merge realizado y dataset guardado en 'dataset_merged.csv'.\")\n"
   ]
  },
  {
   "cell_type": "code",
   "execution_count": 34,
   "metadata": {},
   "outputs": [
    {
     "name": "stdout",
     "output_type": "stream",
     "text": [
      "DataFrame muestreado:\n",
      "       Unnamed: 0 Date  Weight_('BALL', 'BALL')  Weight_('BSX', 'BSX')  \\\n",
      "0           56521  NaT                13.010944              12.195985   \n",
      "1           56737  NaT                10.436700              10.660300   \n",
      "2           56740  NaT                 3.714670               5.374577   \n",
      "3           56660  NaT                 1.912956               7.036041   \n",
      "4           56411  NaT                12.368726               4.212908   \n",
      "...           ...  ...                      ...                    ...   \n",
      "36895      178468  NaT                 9.208379               3.494791   \n",
      "36896      178935  NaT                10.134120               8.306865   \n",
      "36897      178428  NaT                13.233217               7.755318   \n",
      "36898      178007  NaT                 6.919911              10.010164   \n",
      "36899      178155  NaT                 8.328743               8.562567   \n",
      "\n",
      "       Weight_('CZR', 'CZR')  Weight_('AEP', 'AEP')  Weight_('ARE', 'ARE')  \\\n",
      "0                   7.754127               1.773096               8.141967   \n",
      "1                   4.211038               8.826189               0.639314   \n",
      "2                   1.843415               7.566815               5.002304   \n",
      "3                  11.889715               9.857736               3.680631   \n",
      "4                  14.352552               8.943305               3.864114   \n",
      "...                      ...                    ...                    ...   \n",
      "36895               5.445398               1.156334               6.596910   \n",
      "36896               4.758219               0.249849              15.262403   \n",
      "36897               0.991545              13.468475              12.712601   \n",
      "36898               2.663573               9.556957               8.379467   \n",
      "36899               8.003037               7.453152               5.563116   \n",
      "\n",
      "       Weight_('ABT', 'ABT')  Weight_('BLDR', 'BLDR')  \\\n",
      "0                   2.460762                11.785477   \n",
      "1                  11.328987                10.930788   \n",
      "2                   7.596177                 7.857926   \n",
      "3                   3.293180                13.181320   \n",
      "4                   3.119342                 0.323495   \n",
      "...                      ...                      ...   \n",
      "36895               2.899817                 1.680177   \n",
      "36896              12.288844                 5.393500   \n",
      "36897               1.567769                 3.083807   \n",
      "36898               6.279571                 0.791567   \n",
      "36899               4.988901                 5.267846   \n",
      "\n",
      "       Weight_('GOOG', 'GOOG')  ...  WTI index  Dollar index   TRCCRB  \\\n",
      "0                     6.137033  ...      -0.54           0.01   -0.24   \n",
      "1                     1.194118  ...      -0.54           0.01   -0.24   \n",
      "2                     2.158350  ...      -0.54           0.01   -0.24   \n",
      "3                     9.075594  ...      -0.54           0.01   -0.24   \n",
      "4                     7.153777  ...      -0.54           0.01   -0.24   \n",
      "...                        ...  ...        ...            ...     ...   \n",
      "36895                 0.905118  ...      -0.08           0.02   -0.06   \n",
      "36896                 2.733314  ...      -0.08           0.02   -0.06   \n",
      "36897                 1.798601  ...      -0.08           0.02   -0.06   \n",
      "36898                 0.821689  ...      -0.08           0.02   -0.06   \n",
      "36899                 4.859748  ...      -0.08           0.02   -0.06   \n",
      "\n",
      "             BCI        CCI        CLI  GPRI  Unemployment rate  \\\n",
      "0      100.51640  100.00320  100.51640  1.77                5.7   \n",
      "1      100.51640  100.00320  100.51640  1.77                5.7   \n",
      "2      100.51640  100.00320  100.51640  1.77                5.7   \n",
      "3      100.51640  100.00320  100.51640  1.77                5.7   \n",
      "4      100.51640  100.00320  100.51640  1.77                5.7   \n",
      "...          ...        ...        ...   ...                ...   \n",
      "36895   99.37747   99.04737   99.37747  3.26                4.1   \n",
      "36896   99.37747   99.04737   99.37747  3.26                4.1   \n",
      "36897   99.37747   99.04737   99.37747  3.26                4.1   \n",
      "36898   99.37747   99.04737   99.37747  3.26                4.1   \n",
      "36899   99.37747   99.04737   99.37747  3.26                4.1   \n",
      "\n",
      "       Portfolio_Returns  Sortino_Ratio  \n",
      "0               0.046410       1.420810  \n",
      "1               0.055872       1.710502  \n",
      "2               0.058632       1.794987  \n",
      "3               0.055407       1.696239  \n",
      "4               0.048168       1.474632  \n",
      "...                  ...            ...  \n",
      "36895          -0.067474      -2.069545  \n",
      "36896          -0.068179      -2.091135  \n",
      "36897          -0.073308      -2.248037  \n",
      "36898          -0.065250      -2.001522  \n",
      "36899          -0.068021      -2.086300  \n",
      "\n",
      "[36900 rows x 31 columns]\n"
     ]
    }
   ],
   "source": [
    "# Aplicamos la función sample_in_chunks para tomar 300 portafolios de cada 1000\n",
    "df_sampled = sample_in_chunks(df_merge, chunk_size=1000, sample_size=300, random_state=42)\n",
    "\n",
    "print(\"DataFrame muestreado:\")\n",
    "print(df_sampled)\n"
   ]
  },
  {
   "cell_type": "code",
   "execution_count": 35,
   "metadata": {},
   "outputs": [],
   "source": [
    "# Guarda el dataset merge en un archivo CSV llamado \"dataset_merged.csv\"\n",
    "df_sampled.to_csv(\"sampled_data.csv\", index=False)\n",
    "\n"
   ]
  }
 ],
 "metadata": {
  "kernelspec": {
   "display_name": "Python 3",
   "language": "python",
   "name": "python3"
  },
  "language_info": {
   "codemirror_mode": {
    "name": "ipython",
    "version": 3
   },
   "file_extension": ".py",
   "mimetype": "text/x-python",
   "name": "python",
   "nbconvert_exporter": "python",
   "pygments_lexer": "ipython3",
   "version": "3.8.5"
  }
 },
 "nbformat": 4,
 "nbformat_minor": 4
}
