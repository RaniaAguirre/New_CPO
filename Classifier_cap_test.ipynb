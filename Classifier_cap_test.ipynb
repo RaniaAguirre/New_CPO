{
 "cells": [
  {
   "cell_type": "code",
   "execution_count": null,
   "id": "521044e8",
   "metadata": {},
   "outputs": [],
   "source": []
  },
  {
   "cell_type": "code",
   "execution_count": null,
   "id": "224e81bb",
   "metadata": {},
   "outputs": [],
   "source": []
  },
  {
   "cell_type": "code",
   "execution_count": 3,
   "id": "b8bf9d80",
   "metadata": {},
   "outputs": [],
   "source": [
    "import sys\n",
    "import os\n",
    "\n",
    "if \"Classes.py\" not in os.listdir():\n",
    "    sys.path.append(\"..\")  \n",
    "\n",
    "from Classes import AssetClassifier\n",
    "\n",
    "import pandas as pd\n"
   ]
  },
  {
   "cell_type": "code",
   "execution_count": 9,
   "id": "29ee66d7",
   "metadata": {},
   "outputs": [
    {
     "name": "stderr",
     "output_type": "stream",
     "text": [
      "404 Client Error: Not Found for url: https://query2.finance.yahoo.com/v10/finance/quoteSummary/TREASURY%20BOND%2010Y?modules=financialData%2CquoteType%2CdefaultKeyStatistics%2CassetProfile%2CsummaryDetail&corsDomain=finance.yahoo.com&formatted=false&symbol=TREASURY+BOND+10Y&crumb=LKp4B56iN1F\n",
      "404 Client Error: Not Found for url: https://query2.finance.yahoo.com/v10/finance/quoteSummary/DOLLAR%20INDEX%20?modules=financialData%2CquoteType%2CdefaultKeyStatistics%2CassetProfile%2CsummaryDetail&corsDomain=finance.yahoo.com&formatted=false&symbol=DOLLAR+INDEX+&crumb=LKp4B56iN1F\n"
     ]
    },
    {
     "name": "stdout",
     "output_type": "stream",
     "text": [
      "['ADI', 'AES', 'ALLE', 'AMAT', 'ATO']\n",
      "high_cap\n"
     ]
    }
   ],
   "source": [
    "df = pd.read_csv(\"Backtesting_data.csv\")\n",
    "df['Date'] = pd.to_datetime(df['Date'], dayfirst=True)\n",
    "df.set_index('Date', inplace=True)\n",
    "\n",
    "classifier = AssetClassifier(df)\n",
    "\n",
    "fecha = pd.to_datetime(\"2022-06-18\")\n",
    "activos = classifier.select_assets(fecha)\n",
    "cap_type = classifier.get_cap_type(activos)\n",
    "\n",
    "print(activos)\n",
    "print(cap_type)\n"
   ]
  },
  {
   "cell_type": "code",
   "execution_count": null,
   "id": "244a304a",
   "metadata": {},
   "outputs": [],
   "source": []
  },
  {
   "cell_type": "code",
   "execution_count": null,
   "id": "c1743ff9",
   "metadata": {},
   "outputs": [],
   "source": []
  },
  {
   "cell_type": "code",
   "execution_count": null,
   "id": "2eee773a",
   "metadata": {},
   "outputs": [],
   "source": []
  }
 ],
 "metadata": {
  "kernelspec": {
   "display_name": "Python 3 (ipykernel)",
   "language": "python",
   "name": "python3"
  },
  "language_info": {
   "codemirror_mode": {
    "name": "ipython",
    "version": 3
   },
   "file_extension": ".py",
   "mimetype": "text/x-python",
   "name": "python",
   "nbconvert_exporter": "python",
   "pygments_lexer": "ipython3",
   "version": "3.9.12"
  }
 },
 "nbformat": 4,
 "nbformat_minor": 5
}
